{
 "cells": [
  {
   "cell_type": "markdown",
   "metadata": {},
   "source": [
    "Exercise 7: Using the Twitter API"
   ]
  },
  {
   "cell_type": "code",
   "execution_count": 24,
   "metadata": {
    "collapsed": false
   },
   "outputs": [
    {
     "name": "stdout",
     "output_type": "stream",
     "text": [
      "Number of Tweets Grabbed: 911.000000\n"
     ]
    }
   ],
   "source": [
    "# load packages\n",
    "import tweepy\n",
    "import json\n",
    "import pandas as pd\n",
    "\n",
    "# put in your credentials\n",
    "consumer_key = \"your credentials here\"\n",
    "consumer_secret = \"your credentials here\"\n",
    "access_token = \"your credentials here\"\n",
    "access_secret = \"your credentials here\"\n",
    "\n",
    "# authorize\n",
    "authorization = tweepy.OAuthHandler(consumer_key=consumer_key, consumer_secret=consumer_secret)\n",
    "authorization.set_access_token(access_token, access_secret)\n",
    "\n",
    "# create the client\n",
    "client = tweepy.API(authorization)\n",
    "\n",
    "# initialize empty lists to store tweet info\n",
    "tweets = list()\n",
    "from_user = list()\n",
    "tweet_id = list()\n",
    "\n",
    "# for each tweet matching the search criteria\n",
    "for tweet in tweepy.Cursor(client.search,\n",
    "                           q='@DineOutVanFest OR #DineOutVancouver OR #DOVF OR #dinearound2017 exclude:retweets').items():\n",
    "    \n",
    "    # only get tweets that aren't retweets\n",
    "    if \"RT\" not in tweet.text:\n",
    "        tweets.append(tweet.text) # add the tweet text\n",
    "        from_user.append(tweet.user.screen_name) # add the sender\n",
    "        tweet_id.append(tweet.id_str) # add the tweet id\n",
    "\n",
    "# turn everything into a dataframe\n",
    "dineout_tweets = pd.DataFrame({'sender': from_user,\n",
    "                                'tweet_text': tweets,\n",
    "                               'tweet_id': tweet_id}, columns=['sender', 'tweet_text', 'tweet_id'])\n",
    "\n",
    "# print the number of tweets grabbed\n",
    "print(\"Number of Tweets Grabbed: %f\" % (len(tweets)))\n",
    "\n",
    "# append the tweets to the current file instead of overwriting to get cumulative tweets\n",
    "# handle duplicates later\n",
    "dineout_tweets.to_csv(\"../data/tweets.csv\", mode='a', sep=',', index=False)"
   ]
  }
 ],
 "metadata": {
  "anaconda-cloud": {},
  "kernelspec": {
   "display_name": "Python [conda root]",
   "language": "python",
   "name": "conda-root-py"
  },
  "language_info": {
   "codemirror_mode": {
    "name": "ipython",
    "version": 3
   },
   "file_extension": ".py",
   "mimetype": "text/x-python",
   "name": "python",
   "nbconvert_exporter": "python",
   "pygments_lexer": "ipython3",
   "version": "3.5.2"
  }
 },
 "nbformat": 4,
 "nbformat_minor": 0
}
